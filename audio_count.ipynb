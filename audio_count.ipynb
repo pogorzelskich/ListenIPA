{
 "cells": [
  {
   "cell_type": "markdown",
   "metadata": {},
   "source": [
    "COUNT AUDIO"
   ]
  },
  {
   "cell_type": "code",
   "execution_count": null,
   "metadata": {},
   "outputs": [],
   "source": [
    "import librosa\n",
    "max_audio = 260142\n",
    "exclude_files = [3591, 3979, 4469, 5184, 5185, 5186, 5187, 5188, 5189, 5190, 5191, 54973]\n",
    "\n",
    "all_duration = 0.\n",
    "errored = []\n",
    "audio_count = 0\n",
    "for i in range(max_audio):\n",
    "    if i not in exclude_files:\n",
    "        try:\n",
    "            to_add = librosa.get_duration(path=f'data/audio_data/{i}.mp3')\n",
    "            all_duration += to_add\n",
    "            audio_count += 1\n",
    "        except:\n",
    "            errored.append(i)\n",
    "print(all_duration/60/60)\n",
    "print(audio_count)\n",
    "print(errored)"
   ]
  }
 ],
 "metadata": {
  "kernelspec": {
   "display_name": ".venv",
   "language": "python",
   "name": "python3"
  },
  "language_info": {
   "codemirror_mode": {
    "name": "ipython",
    "version": 3
   },
   "file_extension": ".py",
   "mimetype": "text/x-python",
   "name": "python",
   "nbconvert_exporter": "python",
   "pygments_lexer": "ipython3",
   "version": "3.10.9"
  }
 },
 "nbformat": 4,
 "nbformat_minor": 2
}
