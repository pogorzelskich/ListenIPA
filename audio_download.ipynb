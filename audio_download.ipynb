{
 "cells": [
  {
   "cell_type": "code",
   "execution_count": 1,
   "metadata": {},
   "outputs": [],
   "source": [
    "with open('data/wikitionary_data/raw_data_stage_03.json', 'r', encoding=\"utf8\") as f:\n",
    "    all_lines = f.readlines()"
   ]
  },
  {
   "cell_type": "code",
   "execution_count": 2,
   "metadata": {},
   "outputs": [],
   "source": [
    "import json\n",
    "raw_download_links_list = []\n",
    "for n, line in enumerate(all_lines):\n",
    "    dict_line = json.loads(line)\n",
    "    for sound in dict_line[\"s\"]:\n",
    "        if \"audio\" in sound:\n",
    "            raw_download_links_list.append([int(sound[\"audio_id\"]), sound[\"audio\"]])"
   ]
  },
  {
   "cell_type": "code",
   "execution_count": 3,
   "metadata": {},
   "outputs": [],
   "source": [
    "with open('data/audio_data/!ids.json', 'w', encoding=\"utf8\") as f:\n",
    "    for raw_link in raw_download_links_list:\n",
    "        # f.write(json.dumps(datum, ensure_ascii=False)+\"\\n\")\n",
    "        f.write(str(raw_link[0])+\"\\t\"+raw_link[1]+\"\\n\")"
   ]
  },
  {
   "cell_type": "code",
   "execution_count": 4,
   "metadata": {},
   "outputs": [],
   "source": [
    "with open('data/audio_data/!ids.json', 'r', encoding=\"utf8\") as f:\n",
    "    str_raw_download_links_list = f.readlines()\n",
    "\n",
    "raw_download_links_list = []\n",
    "for str_raw_line in str_raw_download_links_list:\n",
    "    str_raw_line_sep = str_raw_line[:-1].split(\"\\t\")\n",
    "    raw_download_links_list.append([int(str_raw_line_sep[0]), str_raw_line_sep[1]])"
   ]
  },
  {
   "cell_type": "code",
   "execution_count": 5,
   "metadata": {},
   "outputs": [],
   "source": [
    "# Проверка\n",
    "with open('data/audio_data/!ids.json', 'r', encoding=\"utf8\") as f:\n",
    "    new_str = \"\"\n",
    "    for raw_link in raw_download_links_list:\n",
    "        new_str += str(raw_link[0])+\"\\t\"+raw_link[1]+\"\\n\"\n",
    "    old_str = f.read()\n",
    "# old_str == new_str"
   ]
  },
  {
   "cell_type": "code",
   "execution_count": 6,
   "metadata": {},
   "outputs": [],
   "source": [
    "import requests\n",
    "from bs4 import BeautifulSoup\n",
    "import urllib.parse\n",
    "\n",
    "# Функция загрузки и сохранения аудио\n",
    "def download_wikimedia(raw_link):\n",
    "    raw_link[1] = raw_link[1].replace(\"&#39;\", \"'\")\n",
    "    raw_link[1] = raw_link[1].replace(\"%2C;\", \",\")\n",
    "    first_link = \"https://commons.wikimedia.org/wiki/File:\"+urllib.parse.quote(raw_link[1])\n",
    "    response = requests.get(first_link,\n",
    "                            headers={'User-Agent': 'enWiktionary_download_audios/0.0 (example@mail.ru)'})\n",
    "    response_content = response.content.decode(\"utf-8\")\n",
    "\n",
    "    soup = BeautifulSoup(response_content, \"html.parser\")\n",
    "    download_link = soup.find(\"a\", attrs={\"aria-label\":\"Download file\"})[\"href\"]\n",
    "    download_link = str(download_link)\n",
    "    if not download_link.startswith(\"https://upload.wikimedia.org/\"):\n",
    "        0/0\n",
    "    else:\n",
    "        response = requests.get(download_link.split(\"?\")[0],\n",
    "                                headers={'User-Agent': 'enWiktionary_download_audios/0.0 (example@mail.ru)'})\n",
    "        response_content = response.content\n",
    "        \n",
    "        if response_content[:9] == b'<!DOCTYPE':\n",
    "            0/0\n",
    "        elif response_content[:9] == b'File not ':\n",
    "            0/0\n",
    "        else:\n",
    "            open(\"data/audio_data/\"+str(raw_link[0])+\".mp3\", \"wb\").write(response_content)"
   ]
  },
  {
   "cell_type": "code",
   "execution_count": 10,
   "metadata": {},
   "outputs": [
    {
     "name": "stdout",
     "output_type": "stream",
     "text": [
      "260142\n"
     ]
    }
   ],
   "source": [
    "import time\n",
    "import threading\n",
    "import random\n",
    "import os\n",
    "\n",
    "# Мультипотоковая загрузка аудио\n",
    "\n",
    "def do_files():\n",
    "    files = os.listdir(\"data/audio_data/\")\n",
    "    files.remove(\"!ids.json\")\n",
    "    files = set([int(i.split(\".\")[0]) for i in files])\n",
    "    return files\n",
    "\n",
    "download_links_list = []\n",
    "\n",
    "start_with = \"\" # raw_download_links_list[19250][1]\n",
    "links_count = len(raw_download_links_list)\n",
    "print(links_count)\n",
    "exclude_files = [54973]\n",
    "\n",
    "threads = []\n",
    "\n",
    "def download_with_retry(raw_link):\n",
    "    while True:\n",
    "        try:\n",
    "            download_wikimedia(raw_link)\n",
    "            print(f\"===Done {raw_link}===\")\n",
    "            break\n",
    "        except Exception as e:\n",
    "            # print()\n",
    "            # print(e)\n",
    "            period = random.randint(0, 2)\n",
    "            print(f\"===Waiting {period}s for {raw_link}===\")\n",
    "            break\n",
    "            # print()\n",
    "            time.sleep(period)\n",
    "\n",
    "def all_download(raw_download_links_list, start_with, files, threads):\n",
    "    to_start = False\n",
    "    threads_limit = 800\n",
    "    count = 0\n",
    "    for raw_link in raw_download_links_list:\n",
    "        if raw_link[1] == start_with or start_with == \"\":\n",
    "            to_start = True\n",
    "        if to_start and raw_link[0] not in files and count < threads_limit and raw_link[0] not in exclude_files:\n",
    "            count += 1\n",
    "            thread = threading.Thread(target=download_with_retry, args=(raw_link,))\n",
    "            thread.start()\n",
    "            threads.append(thread)\n",
    "    return threads\n",
    "\n",
    "def all_threads(raw_download_links_list, start_with, files, threads):\n",
    "    threads = all_download(raw_download_links_list, start_with, files, threads)\n",
    "\n",
    "    for thread in threads:\n",
    "        thread.join()\n",
    "    return threads\n",
    "\n",
    "def all_threads_finished(threads):\n",
    "    for thread in threads:\n",
    "        if thread.is_alive():\n",
    "            return False\n",
    "    return True\n",
    "\n",
    "files = do_files()\n",
    "is_starting = True\n",
    "while True:\n",
    "    if (len(files)+len(exclude_files)) == links_count:\n",
    "        break\n",
    "    while True:\n",
    "        if is_starting:\n",
    "            files = do_files()\n",
    "            print(f\"==Progress {((len(files)+len(exclude_files))/links_count)*100}==\")\n",
    "            threads = all_threads(raw_download_links_list, start_with, files, threads)\n",
    "            is_starting = False\n",
    "        else:\n",
    "            if all_threads_finished(threads):\n",
    "                is_starting = True\n",
    "                break\n",
    "    \n"
   ]
  },
  {
   "cell_type": "code",
   "execution_count": 8,
   "metadata": {},
   "outputs": [
    {
     "data": {
      "text/plain": [
       "'LL-Q14196 (afr)-Oesjaar-oranje.wav'"
      ]
     },
     "execution_count": 8,
     "metadata": {},
     "output_type": "execute_result"
    }
   ],
   "source": [
    "from urllib.parse import unquote\n",
    "\n",
    "unquote(\"LL-Q14196%20%28afr%29-Oesjaar-oranje.wav\")"
   ]
  },
  {
   "cell_type": "code",
   "execution_count": 9,
   "metadata": {},
   "outputs": [
    {
     "data": {
      "text/plain": [
       "'%3F%3F%3F'"
      ]
     },
     "execution_count": 9,
     "metadata": {},
     "output_type": "execute_result"
    }
   ],
   "source": [
    "import urllib.parse\n",
    "\n",
    "urllib.parse.quote(\"???\")"
   ]
  },
  {
   "cell_type": "code",
   "execution_count": null,
   "metadata": {},
   "outputs": [],
   "source": []
  }
 ],
 "metadata": {
  "kernelspec": {
   "display_name": ".venv",
   "language": "python",
   "name": "python3"
  },
  "language_info": {
   "codemirror_mode": {
    "name": "ipython",
    "version": 3
   },
   "file_extension": ".py",
   "mimetype": "text/x-python",
   "name": "python",
   "nbconvert_exporter": "python",
   "pygments_lexer": "ipython3",
   "version": "3.10.9"
  }
 },
 "nbformat": 4,
 "nbformat_minor": 2
}
